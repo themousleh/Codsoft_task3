{
 "cells": [
  {
   "cell_type": "markdown",
   "id": "094b4ee3",
   "metadata": {},
   "source": [
    "# Iris Flower Classification Project\n",
    "\n",
    "## Introduction\n",
    "\n",
    "The Iris flower dataset is a well-known dataset in the field of machine learning and statistics. It consists of 150 samples from three different species of Iris flowers: Iris-setosa, Iris-versicolor, and Iris-virginica. Each sample has four features: sepal length, sepal width, petal length, and petal width. This dataset is widely used for introductory classification tasks because of its simplicity and the clear distinction between the classes.\n",
    "\n",
    "In this project, we will develop a machine learning model that can classify Iris flowers into their respective species based on their sepal and petal measurements. We will use the Logistic Regression algorithm for this classification task.\n",
    "\n",
    "## Objectives\n",
    "\n",
    "1. **Load and Explore the Dataset**: Understand the structure of the dataset and perform basic exploratory data analysis.\n",
    "2. **Data Preprocessing**: Prepare the data for training by handling any missing values, encoding categorical variables, and standardizing the feature values.\n",
    "3. **Train-Test Split**: Split the dataset into training and testing sets to evaluate the performance of our model.\n",
    "4. **Model Training**: Train a Logistic Regression model using the training data.\n",
    "5. **Model Evaluation**: Evaluate the performance of the trained model on the testing set using accuracy score, classification report, and confusion matrix.\n",
    "6. **Visualization**: Visualize the results using appropriate plots to gain insights into the model's performance.\n",
    "\n",
    "By the end of this project, we aim to have a well-trained model capable of accurately classifying Iris flowers into their respective species based on their sepal and petal measurements.\n"
   ]
  },
  {
   "cell_type": "markdown",
   "id": "ba5599cf",
   "metadata": {},
   "source": [
    "<div style=\"display: flex; justify-content: space-between;\">\n",
    "    <img src=\"Iris-setosa.jpeg\" alt=\"Iris-setosa\" style=\" margin-right: 10px;\">\n",
    "    <img src=\"iris-verginica.jpeg\" alt=\"Iris-verginica\" style=\" margin-right: 10px;\">\n",
    "    <img src=\"iris-versicolor.jpeg\" alt=\"Iris-versicolor\">\n",
    "</div>\n"
   ]
  },
  {
   "cell_type": "markdown",
   "id": "2ec5070b",
   "metadata": {},
   "source": [
    "### Step 1: Import Necessary Libraries"
   ]
  },
  {
   "cell_type": "code",
   "execution_count": 1,
   "id": "58a142bc",
   "metadata": {},
   "outputs": [],
   "source": [
    "# Importing necessary libraries\n",
    "import pandas as pd\n",
    "from sklearn.model_selection import train_test_split\n",
    "from sklearn.preprocessing import StandardScaler\n",
    "from sklearn.linear_model import LogisticRegression\n",
    "from sklearn.metrics import classification_report, accuracy_score, confusion_matrix\n",
    "import seaborn as sns\n",
    "import matplotlib.pyplot as plt"
   ]
  },
  {
   "cell_type": "markdown",
   "id": "0752e3c6",
   "metadata": {},
   "source": [
    "### Step 2: Load the Dataset"
   ]
  },
  {
   "cell_type": "code",
   "execution_count": 3,
   "id": "12b2563d",
   "metadata": {},
   "outputs": [
    {
     "name": "stdout",
     "output_type": "stream",
     "text": [
      "    sepal_length  sepal_width  petal_length  petal_width      species\n",
      "0            5.1          3.5           1.4          0.2  Iris-setosa\n",
      "1            4.9          3.0           1.4          0.2  Iris-setosa\n",
      "2            4.7          3.2           1.3          0.2  Iris-setosa\n",
      "3            4.6          3.1           1.5          0.2  Iris-setosa\n",
      "4            5.0          3.6           1.4          0.2  Iris-setosa\n",
      "5            5.4          3.9           1.7          0.4  Iris-setosa\n",
      "6            4.6          3.4           1.4          0.3  Iris-setosa\n",
      "7            5.0          3.4           1.5          0.2  Iris-setosa\n",
      "8            4.4          2.9           1.4          0.2  Iris-setosa\n",
      "9            4.9          3.1           1.5          0.1  Iris-setosa\n",
      "10           5.4          3.7           1.5          0.2  Iris-setosa\n",
      "11           4.8          3.4           1.6          0.2  Iris-setosa\n",
      "12           4.8          3.0           1.4          0.1  Iris-setosa\n",
      "13           4.3          3.0           1.1          0.1  Iris-setosa\n",
      "14           5.8          4.0           1.2          0.2  Iris-setosa\n",
      "15           5.7          4.4           1.5          0.4  Iris-setosa\n",
      "16           5.4          3.9           1.3          0.4  Iris-setosa\n",
      "17           5.1          3.5           1.4          0.3  Iris-setosa\n",
      "18           5.7          3.8           1.7          0.3  Iris-setosa\n",
      "19           5.1          3.8           1.5          0.3  Iris-setosa\n",
      "20           5.4          3.4           1.7          0.2  Iris-setosa\n",
      "21           5.1          3.7           1.5          0.4  Iris-setosa\n",
      "22           4.6          3.6           1.0          0.2  Iris-setosa\n",
      "23           5.1          3.3           1.7          0.5  Iris-setosa\n",
      "24           4.8          3.4           1.9          0.2  Iris-setosa\n",
      "25           5.0          3.0           1.6          0.2  Iris-setosa\n",
      "26           5.0          3.4           1.6          0.4  Iris-setosa\n",
      "27           5.2          3.5           1.5          0.2  Iris-setosa\n",
      "28           5.2          3.4           1.4          0.2  Iris-setosa\n",
      "29           4.7          3.2           1.6          0.2  Iris-setosa\n"
     ]
    }
   ],
   "source": [
    "# Load the dataset\n",
    "df = pd.read_csv('iris.csv')\n",
    "\n",
    "# Display the first few rows of the dataset\n",
    "print(df.head(30))"
   ]
  },
  {
   "cell_type": "markdown",
   "id": "651cdc23",
   "metadata": {},
   "source": [
    "### Step 3: Extract Features and Target"
   ]
  },
  {
   "cell_type": "code",
   "execution_count": 4,
   "id": "4afe1019",
   "metadata": {},
   "outputs": [],
   "source": [
    "# Extracting features and target\n",
    "X = df.iloc[:, :-1].values  # Features: sepal_length, sepal_width, petal_length, petal_width\n",
    "y = df.iloc[:, -1].values   # Target: species"
   ]
  },
  {
   "cell_type": "markdown",
   "id": "f97068be",
   "metadata": {},
   "source": [
    "### Step 4: Split the Dataset into Training and Testing Sets"
   ]
  },
  {
   "cell_type": "code",
   "execution_count": 5,
   "id": "e436e257",
   "metadata": {},
   "outputs": [],
   "source": [
    "# Splitting the dataset into training and testing sets\n",
    "X_train, X_test, y_train, y_test = train_test_split(X, y, test_size=0.3, random_state=42, stratify=y)"
   ]
  },
  {
   "cell_type": "markdown",
   "id": "260c1576",
   "metadata": {},
   "source": [
    "### Step 5: Standardize the Features"
   ]
  },
  {
   "cell_type": "code",
   "execution_count": 6,
   "id": "69c987d8",
   "metadata": {},
   "outputs": [],
   "source": [
    "# Standardizing the features\n",
    "scaler = StandardScaler()\n",
    "X_train = scaler.fit_transform(X_train)\n",
    "X_test = scaler.transform(X_test)"
   ]
  },
  {
   "cell_type": "markdown",
   "id": "0cf91d32",
   "metadata": {},
   "source": [
    "### Step 6: Train the Logistic Regression Model"
   ]
  },
  {
   "cell_type": "code",
   "execution_count": 7,
   "id": "c8101a7d",
   "metadata": {},
   "outputs": [
    {
     "data": {
      "text/html": [
       "<style>#sk-container-id-1 {color: black;background-color: white;}#sk-container-id-1 pre{padding: 0;}#sk-container-id-1 div.sk-toggleable {background-color: white;}#sk-container-id-1 label.sk-toggleable__label {cursor: pointer;display: block;width: 100%;margin-bottom: 0;padding: 0.3em;box-sizing: border-box;text-align: center;}#sk-container-id-1 label.sk-toggleable__label-arrow:before {content: \"▸\";float: left;margin-right: 0.25em;color: #696969;}#sk-container-id-1 label.sk-toggleable__label-arrow:hover:before {color: black;}#sk-container-id-1 div.sk-estimator:hover label.sk-toggleable__label-arrow:before {color: black;}#sk-container-id-1 div.sk-toggleable__content {max-height: 0;max-width: 0;overflow: hidden;text-align: left;background-color: #f0f8ff;}#sk-container-id-1 div.sk-toggleable__content pre {margin: 0.2em;color: black;border-radius: 0.25em;background-color: #f0f8ff;}#sk-container-id-1 input.sk-toggleable__control:checked~div.sk-toggleable__content {max-height: 200px;max-width: 100%;overflow: auto;}#sk-container-id-1 input.sk-toggleable__control:checked~label.sk-toggleable__label-arrow:before {content: \"▾\";}#sk-container-id-1 div.sk-estimator input.sk-toggleable__control:checked~label.sk-toggleable__label {background-color: #d4ebff;}#sk-container-id-1 div.sk-label input.sk-toggleable__control:checked~label.sk-toggleable__label {background-color: #d4ebff;}#sk-container-id-1 input.sk-hidden--visually {border: 0;clip: rect(1px 1px 1px 1px);clip: rect(1px, 1px, 1px, 1px);height: 1px;margin: -1px;overflow: hidden;padding: 0;position: absolute;width: 1px;}#sk-container-id-1 div.sk-estimator {font-family: monospace;background-color: #f0f8ff;border: 1px dotted black;border-radius: 0.25em;box-sizing: border-box;margin-bottom: 0.5em;}#sk-container-id-1 div.sk-estimator:hover {background-color: #d4ebff;}#sk-container-id-1 div.sk-parallel-item::after {content: \"\";width: 100%;border-bottom: 1px solid gray;flex-grow: 1;}#sk-container-id-1 div.sk-label:hover label.sk-toggleable__label {background-color: #d4ebff;}#sk-container-id-1 div.sk-serial::before {content: \"\";position: absolute;border-left: 1px solid gray;box-sizing: border-box;top: 0;bottom: 0;left: 50%;z-index: 0;}#sk-container-id-1 div.sk-serial {display: flex;flex-direction: column;align-items: center;background-color: white;padding-right: 0.2em;padding-left: 0.2em;position: relative;}#sk-container-id-1 div.sk-item {position: relative;z-index: 1;}#sk-container-id-1 div.sk-parallel {display: flex;align-items: stretch;justify-content: center;background-color: white;position: relative;}#sk-container-id-1 div.sk-item::before, #sk-container-id-1 div.sk-parallel-item::before {content: \"\";position: absolute;border-left: 1px solid gray;box-sizing: border-box;top: 0;bottom: 0;left: 50%;z-index: -1;}#sk-container-id-1 div.sk-parallel-item {display: flex;flex-direction: column;z-index: 1;position: relative;background-color: white;}#sk-container-id-1 div.sk-parallel-item:first-child::after {align-self: flex-end;width: 50%;}#sk-container-id-1 div.sk-parallel-item:last-child::after {align-self: flex-start;width: 50%;}#sk-container-id-1 div.sk-parallel-item:only-child::after {width: 0;}#sk-container-id-1 div.sk-dashed-wrapped {border: 1px dashed gray;margin: 0 0.4em 0.5em 0.4em;box-sizing: border-box;padding-bottom: 0.4em;background-color: white;}#sk-container-id-1 div.sk-label label {font-family: monospace;font-weight: bold;display: inline-block;line-height: 1.2em;}#sk-container-id-1 div.sk-label-container {text-align: center;}#sk-container-id-1 div.sk-container {/* jupyter's `normalize.less` sets `[hidden] { display: none; }` but bootstrap.min.css set `[hidden] { display: none !important; }` so we also need the `!important` here to be able to override the default hidden behavior on the sphinx rendered scikit-learn.org. See: https://github.com/scikit-learn/scikit-learn/issues/21755 */display: inline-block !important;position: relative;}#sk-container-id-1 div.sk-text-repr-fallback {display: none;}</style><div id=\"sk-container-id-1\" class=\"sk-top-container\"><div class=\"sk-text-repr-fallback\"><pre>LogisticRegression(max_iter=200, random_state=42)</pre><b>In a Jupyter environment, please rerun this cell to show the HTML representation or trust the notebook. <br />On GitHub, the HTML representation is unable to render, please try loading this page with nbviewer.org.</b></div><div class=\"sk-container\" hidden><div class=\"sk-item\"><div class=\"sk-estimator sk-toggleable\"><input class=\"sk-toggleable__control sk-hidden--visually\" id=\"sk-estimator-id-1\" type=\"checkbox\" checked><label for=\"sk-estimator-id-1\" class=\"sk-toggleable__label sk-toggleable__label-arrow\">LogisticRegression</label><div class=\"sk-toggleable__content\"><pre>LogisticRegression(max_iter=200, random_state=42)</pre></div></div></div></div></div>"
      ],
      "text/plain": [
       "LogisticRegression(max_iter=200, random_state=42)"
      ]
     },
     "execution_count": 7,
     "metadata": {},
     "output_type": "execute_result"
    }
   ],
   "source": [
    "# Training a Logistic Regression model\n",
    "classifier = LogisticRegression(random_state=42, max_iter=200)\n",
    "classifier.fit(X_train, y_train)"
   ]
  },
  {
   "cell_type": "markdown",
   "id": "cd8ceea8",
   "metadata": {},
   "source": [
    "### Step 7: Make Predictions on the Testing Set"
   ]
  },
  {
   "cell_type": "code",
   "execution_count": 8,
   "id": "a3663a79",
   "metadata": {},
   "outputs": [],
   "source": [
    "# Making predictions on the testing set\n",
    "y_pred = classifier.predict(X_test)"
   ]
  },
  {
   "cell_type": "markdown",
   "id": "dea2874e",
   "metadata": {},
   "source": [
    "### Step 8: Evaluate the Model's Performance"
   ]
  },
  {
   "cell_type": "code",
   "execution_count": 9,
   "id": "ea8e232a",
   "metadata": {},
   "outputs": [
    {
     "name": "stdout",
     "output_type": "stream",
     "text": [
      "Accuracy: 0.9111111111111111\n",
      "\n",
      "Classification Report:\n",
      "                  precision    recall  f1-score   support\n",
      "\n",
      "    Iris-setosa       1.00      1.00      1.00        15\n",
      "Iris-versicolor       0.82      0.93      0.87        15\n",
      " Iris-virginica       0.92      0.80      0.86        15\n",
      "\n",
      "       accuracy                           0.91        45\n",
      "      macro avg       0.92      0.91      0.91        45\n",
      "   weighted avg       0.92      0.91      0.91        45\n",
      "\n"
     ]
    },
    {
     "data": {
      "image/png": "[encoded data removed]",
      "text/plain": [
       "<Figure size 640x480 with 2 Axes>"
      ]
     },
     "metadata": {},
     "output_type": "display_data"
    }
   ],
   "source": [
    "# Evaluating the model\n",
    "print(\"Accuracy:\", accuracy_score(y_test, y_pred))\n",
    "print(\"\\nClassification Report:\\n\", classification_report(y_test, y_pred))\n",
    "\n",
    "# Confusion Matrix\n",
    "conf_matrix = confusion_matrix(y_test, y_pred)\n",
    "sns.heatmap(conf_matrix, annot=True, fmt=\"d\", cmap=\"Blues\", xticklabels=classifier.classes_, yticklabels=classifier.classes_)\n",
    "plt.xlabel('Predicted')\n",
    "plt.ylabel('True')\n",
    "plt.title('Confusion Matrix')\n",
    "plt.show()"
   ]
  },
  {
   "cell_type": "markdown",
   "id": "a71beaf1",
   "metadata": {},
   "source": [
    "### Step 9: Save the Model Locally"
   ]
  },
  {
   "cell_type": "code",
   "execution_count": 11,
   "id": "13d7a459",
   "metadata": {},
   "outputs": [
    {
     "name": "stdout",
     "output_type": "stream",
     "text": [
      "Model saved to logistic_regression_model.pkl\n"
     ]
    }
   ],
   "source": [
    "# Step 9: Save the Model Locally\n",
    "import joblib\n",
    "\n",
    "# Save the trained model to a file\n",
    "joblib_file = \"logistic_regression_model.pkl\"\n",
    "joblib.dump(classifier, joblib_file)\n",
    "\n",
    "print(f\"Model saved to {joblib_file}\")\n"
   ]
  },
  {
   "cell_type": "code",
   "execution_count": 12,
   "id": "a49da989",
   "metadata": {},
   "outputs": [
    {
     "data": {
      "text/plain": [
       "['scaler.pkl']"
      ]
     },
     "execution_count": 12,
     "metadata": {},
     "output_type": "execute_result"
    }
   ],
   "source": [
    "import joblib\n",
    "\n",
    "# Save the trained model and scaler to files\n",
    "joblib.dump(classifier, 'logistic_regression_model.pkl')\n",
    "joblib.dump(scaler, 'scaler.pkl')\n"
   ]
  }
 ],
 "metadata": {
  "kernelspec": {
   "display_name": "Python 3 (ipykernel)",
   "language": "python",
   "name": "python3"
  },
  "language_info": {
   "codemirror_mode": {
    "name": "ipython",
    "version": 3
   },
   "file_extension": ".py",
   "mimetype": "text/x-python",
   "name": "python",
   "nbconvert_exporter": "python",
   "pygments_lexer": "ipython3",
   "version": "3.10.9"
  }
 },
 "nbformat": 4,
 "nbformat_minor": 5
}
